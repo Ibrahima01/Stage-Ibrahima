{
 "cells": [
  {
   "cell_type": "code",
   "execution_count": 2,
   "id": "efabeb95",
   "metadata": {},
   "outputs": [],
   "source": [
    "import matplotlib.pyplot as plt\n",
    "import dask.dataframe as dd\n",
    "import pandas as pd"
   ]
  },
  {
   "cell_type": "code",
   "execution_count": 27,
   "id": "dd808ab3",
   "metadata": {},
   "outputs": [],
   "source": [
    "df = dd.read_csv('GSE148375_processed_data.txt', delimiter='\\t')"
   ]
  },
  {
   "cell_type": "code",
   "execution_count": 28,
   "id": "2254c4e6",
   "metadata": {},
   "outputs": [],
   "source": [
    "file = df.sample(frac=0.005)"
   ]
  },
  {
   "cell_type": "code",
   "execution_count": 7,
   "id": "2767b8c7",
   "metadata": {},
   "outputs": [
    {
     "data": {
      "text/html": [
       "<div>\n",
       "<style scoped>\n",
       "    .dataframe tbody tr th:only-of-type {\n",
       "        vertical-align: middle;\n",
       "    }\n",
       "\n",
       "    .dataframe tbody tr th {\n",
       "        vertical-align: top;\n",
       "    }\n",
       "\n",
       "    .dataframe thead th {\n",
       "        text-align: right;\n",
       "    }\n",
       "</style>\n",
       "<table border=\"1\" class=\"dataframe\">\n",
       "  <thead>\n",
       "    <tr style=\"text-align: right;\">\n",
       "      <th></th>\n",
       "      <th>ID_REF</th>\n",
       "      <th>1900017</th>\n",
       "      <th>1900029</th>\n",
       "      <th>1900030</th>\n",
       "      <th>1900031</th>\n",
       "      <th>1900040</th>\n",
       "      <th>1900043</th>\n",
       "      <th>1900046</th>\n",
       "      <th>1900048</th>\n",
       "      <th>1900049</th>\n",
       "      <th>...</th>\n",
       "      <th>215606</th>\n",
       "      <th>215753</th>\n",
       "      <th>215762</th>\n",
       "      <th>215763</th>\n",
       "      <th>215764</th>\n",
       "      <th>215769</th>\n",
       "      <th>215771</th>\n",
       "      <th>215772</th>\n",
       "      <th>215773</th>\n",
       "      <th>215827</th>\n",
       "    </tr>\n",
       "  </thead>\n",
       "  <tbody>\n",
       "    <tr>\n",
       "      <th>4778</th>\n",
       "      <td>exm1786266-0_B_F_1927648616</td>\n",
       "      <td>GG</td>\n",
       "      <td>GG</td>\n",
       "      <td>GG</td>\n",
       "      <td>GG</td>\n",
       "      <td>GG</td>\n",
       "      <td>GG</td>\n",
       "      <td>GG</td>\n",
       "      <td>GG</td>\n",
       "      <td>GG</td>\n",
       "      <td>...</td>\n",
       "      <td>GG</td>\n",
       "      <td>AA</td>\n",
       "      <td>GG</td>\n",
       "      <td>GG</td>\n",
       "      <td>GG</td>\n",
       "      <td>GG</td>\n",
       "      <td>GG</td>\n",
       "      <td>GG</td>\n",
       "      <td>GG</td>\n",
       "      <td>GG</td>\n",
       "    </tr>\n",
       "    <tr>\n",
       "      <th>2600</th>\n",
       "      <td>exm2264805-0_T_F_1984845303</td>\n",
       "      <td>AG</td>\n",
       "      <td>GG</td>\n",
       "      <td>GG</td>\n",
       "      <td>GG</td>\n",
       "      <td>AG</td>\n",
       "      <td>AG</td>\n",
       "      <td>AG</td>\n",
       "      <td>AG</td>\n",
       "      <td>GG</td>\n",
       "      <td>...</td>\n",
       "      <td>AG</td>\n",
       "      <td>AA</td>\n",
       "      <td>AG</td>\n",
       "      <td>GG</td>\n",
       "      <td>GG</td>\n",
       "      <td>GG</td>\n",
       "      <td>GG</td>\n",
       "      <td>AG</td>\n",
       "      <td>AG</td>\n",
       "      <td>AG</td>\n",
       "    </tr>\n",
       "    <tr>\n",
       "      <th>2842</th>\n",
       "      <td>exm23287-0_T_R_1919146060</td>\n",
       "      <td>GG</td>\n",
       "      <td>GG</td>\n",
       "      <td>GG</td>\n",
       "      <td>GG</td>\n",
       "      <td>GG</td>\n",
       "      <td>GG</td>\n",
       "      <td>GG</td>\n",
       "      <td>GG</td>\n",
       "      <td>GG</td>\n",
       "      <td>...</td>\n",
       "      <td>GG</td>\n",
       "      <td>AA</td>\n",
       "      <td>GG</td>\n",
       "      <td>GG</td>\n",
       "      <td>GG</td>\n",
       "      <td>GG</td>\n",
       "      <td>GG</td>\n",
       "      <td>GG</td>\n",
       "      <td>GG</td>\n",
       "      <td>GG</td>\n",
       "    </tr>\n",
       "    <tr>\n",
       "      <th>2638</th>\n",
       "      <td>exm21347-0_B_F_1921482261</td>\n",
       "      <td>GG</td>\n",
       "      <td>GG</td>\n",
       "      <td>GG</td>\n",
       "      <td>GG</td>\n",
       "      <td>GG</td>\n",
       "      <td>GG</td>\n",
       "      <td>GG</td>\n",
       "      <td>GG</td>\n",
       "      <td>GG</td>\n",
       "      <td>...</td>\n",
       "      <td>GG</td>\n",
       "      <td>AA</td>\n",
       "      <td>GG</td>\n",
       "      <td>GG</td>\n",
       "      <td>GG</td>\n",
       "      <td>GG</td>\n",
       "      <td>GG</td>\n",
       "      <td>GG</td>\n",
       "      <td>GG</td>\n",
       "      <td>GG</td>\n",
       "    </tr>\n",
       "    <tr>\n",
       "      <th>5047</th>\n",
       "      <td>exm39143-0_B_R_2060133417</td>\n",
       "      <td>GG</td>\n",
       "      <td>GG</td>\n",
       "      <td>GG</td>\n",
       "      <td>GG</td>\n",
       "      <td>GG</td>\n",
       "      <td>GG</td>\n",
       "      <td>GG</td>\n",
       "      <td>GG</td>\n",
       "      <td>GG</td>\n",
       "      <td>...</td>\n",
       "      <td>GG</td>\n",
       "      <td>NC</td>\n",
       "      <td>AG</td>\n",
       "      <td>AG</td>\n",
       "      <td>AG</td>\n",
       "      <td>GG</td>\n",
       "      <td>GG</td>\n",
       "      <td>GG</td>\n",
       "      <td>GG</td>\n",
       "      <td>GG</td>\n",
       "    </tr>\n",
       "  </tbody>\n",
       "</table>\n",
       "<p>5 rows × 3400 columns</p>\n",
       "</div>"
      ],
      "text/plain": [
       "                           ID_REF 1900017 1900029 1900030 1900031 1900040  \\\n",
       "4778  exm1786266-0_B_F_1927648616      GG      GG      GG      GG      GG   \n",
       "2600  exm2264805-0_T_F_1984845303      AG      GG      GG      GG      AG   \n",
       "2842    exm23287-0_T_R_1919146060      GG      GG      GG      GG      GG   \n",
       "2638    exm21347-0_B_F_1921482261      GG      GG      GG      GG      GG   \n",
       "5047    exm39143-0_B_R_2060133417      GG      GG      GG      GG      GG   \n",
       "\n",
       "     1900043 1900046 1900048 1900049  ... 215606 215753 215762 215763 215764  \\\n",
       "4778      GG      GG      GG      GG  ...     GG     AA     GG     GG     GG   \n",
       "2600      AG      AG      AG      GG  ...     AG     AA     AG     GG     GG   \n",
       "2842      GG      GG      GG      GG  ...     GG     AA     GG     GG     GG   \n",
       "2638      GG      GG      GG      GG  ...     GG     AA     GG     GG     GG   \n",
       "5047      GG      GG      GG      GG  ...     GG     NC     AG     AG     AG   \n",
       "\n",
       "     215769 215771 215772 215773 215827  \n",
       "4778     GG     GG     GG     GG     GG  \n",
       "2600     GG     GG     AG     AG     AG  \n",
       "2842     GG     GG     GG     GG     GG  \n",
       "2638     GG     GG     GG     GG     GG  \n",
       "5047     GG     GG     GG     GG     GG  \n",
       "\n",
       "[5 rows x 3400 columns]"
      ]
     },
     "execution_count": 7,
     "metadata": {},
     "output_type": "execute_result"
    }
   ],
   "source": [
    "file.head()"
   ]
  },
  {
   "cell_type": "code",
   "execution_count": 29,
   "id": "640250df",
   "metadata": {},
   "outputs": [
    {
     "data": {
      "text/plain": [
       "['/home/legrand/Desktop/Windows/MRBI2/Mémoire/Stage/Database/Sample/00.part',\n",
       " '/home/legrand/Desktop/Windows/MRBI2/Mémoire/Stage/Database/Sample/01.part',\n",
       " '/home/legrand/Desktop/Windows/MRBI2/Mémoire/Stage/Database/Sample/02.part',\n",
       " '/home/legrand/Desktop/Windows/MRBI2/Mémoire/Stage/Database/Sample/03.part',\n",
       " '/home/legrand/Desktop/Windows/MRBI2/Mémoire/Stage/Database/Sample/04.part',\n",
       " '/home/legrand/Desktop/Windows/MRBI2/Mémoire/Stage/Database/Sample/05.part',\n",
       " '/home/legrand/Desktop/Windows/MRBI2/Mémoire/Stage/Database/Sample/06.part',\n",
       " '/home/legrand/Desktop/Windows/MRBI2/Mémoire/Stage/Database/Sample/07.part',\n",
       " '/home/legrand/Desktop/Windows/MRBI2/Mémoire/Stage/Database/Sample/08.part',\n",
       " '/home/legrand/Desktop/Windows/MRBI2/Mémoire/Stage/Database/Sample/09.part',\n",
       " '/home/legrand/Desktop/Windows/MRBI2/Mémoire/Stage/Database/Sample/10.part',\n",
       " '/home/legrand/Desktop/Windows/MRBI2/Mémoire/Stage/Database/Sample/11.part',\n",
       " '/home/legrand/Desktop/Windows/MRBI2/Mémoire/Stage/Database/Sample/12.part',\n",
       " '/home/legrand/Desktop/Windows/MRBI2/Mémoire/Stage/Database/Sample/13.part',\n",
       " '/home/legrand/Desktop/Windows/MRBI2/Mémoire/Stage/Database/Sample/14.part',\n",
       " '/home/legrand/Desktop/Windows/MRBI2/Mémoire/Stage/Database/Sample/15.part',\n",
       " '/home/legrand/Desktop/Windows/MRBI2/Mémoire/Stage/Database/Sample/16.part',\n",
       " '/home/legrand/Desktop/Windows/MRBI2/Mémoire/Stage/Database/Sample/17.part',\n",
       " '/home/legrand/Desktop/Windows/MRBI2/Mémoire/Stage/Database/Sample/18.part',\n",
       " '/home/legrand/Desktop/Windows/MRBI2/Mémoire/Stage/Database/Sample/19.part',\n",
       " '/home/legrand/Desktop/Windows/MRBI2/Mémoire/Stage/Database/Sample/20.part',\n",
       " '/home/legrand/Desktop/Windows/MRBI2/Mémoire/Stage/Database/Sample/21.part',\n",
       " '/home/legrand/Desktop/Windows/MRBI2/Mémoire/Stage/Database/Sample/22.part',\n",
       " '/home/legrand/Desktop/Windows/MRBI2/Mémoire/Stage/Database/Sample/23.part',\n",
       " '/home/legrand/Desktop/Windows/MRBI2/Mémoire/Stage/Database/Sample/24.part',\n",
       " '/home/legrand/Desktop/Windows/MRBI2/Mémoire/Stage/Database/Sample/25.part',\n",
       " '/home/legrand/Desktop/Windows/MRBI2/Mémoire/Stage/Database/Sample/26.part',\n",
       " '/home/legrand/Desktop/Windows/MRBI2/Mémoire/Stage/Database/Sample/27.part',\n",
       " '/home/legrand/Desktop/Windows/MRBI2/Mémoire/Stage/Database/Sample/28.part',\n",
       " '/home/legrand/Desktop/Windows/MRBI2/Mémoire/Stage/Database/Sample/29.part',\n",
       " '/home/legrand/Desktop/Windows/MRBI2/Mémoire/Stage/Database/Sample/30.part',\n",
       " '/home/legrand/Desktop/Windows/MRBI2/Mémoire/Stage/Database/Sample/31.part',\n",
       " '/home/legrand/Desktop/Windows/MRBI2/Mémoire/Stage/Database/Sample/32.part',\n",
       " '/home/legrand/Desktop/Windows/MRBI2/Mémoire/Stage/Database/Sample/33.part',\n",
       " '/home/legrand/Desktop/Windows/MRBI2/Mémoire/Stage/Database/Sample/34.part',\n",
       " '/home/legrand/Desktop/Windows/MRBI2/Mémoire/Stage/Database/Sample/35.part',\n",
       " '/home/legrand/Desktop/Windows/MRBI2/Mémoire/Stage/Database/Sample/36.part',\n",
       " '/home/legrand/Desktop/Windows/MRBI2/Mémoire/Stage/Database/Sample/37.part']"
      ]
     },
     "execution_count": 29,
     "metadata": {},
     "output_type": "execute_result"
    }
   ],
   "source": [
    "file.to_csv(\"Sample\")"
   ]
  },
  {
   "cell_type": "code",
   "execution_count": 30,
   "id": "b02aa2cb",
   "metadata": {},
   "outputs": [],
   "source": [
    "from sklearn.impute import KNNImputer\n",
    "import numpy as np\n",
    "import hashlib"
   ]
  },
  {
   "cell_type": "code",
   "execution_count": 25,
   "id": "fcc851be",
   "metadata": {},
   "outputs": [],
   "source": [
    "df__33SNPs = pd.read_csv('./Sample/00.csv')"
   ]
  },
  {
   "cell_type": "code",
   "execution_count": 26,
   "id": "c93a345c",
   "metadata": {},
   "outputs": [
    {
     "data": {
      "text/plain": [
       "(32, 3401)"
      ]
     },
     "execution_count": 26,
     "metadata": {},
     "output_type": "execute_result"
    }
   ],
   "source": [
    "df__33SNPs.shape"
   ]
  },
  {
   "cell_type": "code",
   "execution_count": 19,
   "id": "1158e38c",
   "metadata": {},
   "outputs": [],
   "source": [
    "df__33SNPs.replace(['NA', 'NC', 'NN'], np.nan, inplace=True)"
   ]
  },
  {
   "cell_type": "code",
   "execution_count": 20,
   "id": "1fc0720a",
   "metadata": {},
   "outputs": [],
   "source": [
    "def hash_fn(s):\n",
    "    return int(hashlib.sha256(s.encode('utf-8')).hexdigest(), 16) % 10**8"
   ]
  },
  {
   "cell_type": "code",
   "execution_count": 24,
   "id": "51131c45",
   "metadata": {},
   "outputs": [],
   "source": [
    "df__33SNPs['snp_id_num'] = df__33SNPs['ID_REF'].apply(hash_fn)"
   ]
  },
  {
   "cell_type": "code",
   "execution_count": 11,
   "id": "849f86d6",
   "metadata": {},
   "outputs": [
    {
     "ename": "ValueError",
     "evalue": "could not convert string to float: 'exm1786266-0_B_F_1927648616'",
     "output_type": "error",
     "traceback": [
      "\u001b[0;31m---------------------------------------------------------------------------\u001b[0m",
      "\u001b[0;31mValueError\u001b[0m                                Traceback (most recent call last)",
      "Cell \u001b[0;32mIn [11], line 3\u001b[0m\n\u001b[1;32m      1\u001b[0m \u001b[38;5;66;03m# Utiliser KNNImputer pour imputer les valeurs manquantes en utilisant les 3 plus proches voisins\u001b[39;00m\n\u001b[1;32m      2\u001b[0m imputer \u001b[38;5;241m=\u001b[39m KNNImputer(n_neighbors\u001b[38;5;241m=\u001b[39m\u001b[38;5;241m3\u001b[39m)\n\u001b[0;32m----> 3\u001b[0m imputed_df \u001b[38;5;241m=\u001b[39m \u001b[43mimputer\u001b[49m\u001b[38;5;241;43m.\u001b[39;49m\u001b[43mfit_transform\u001b[49m\u001b[43m(\u001b[49m\u001b[43mdf__33SNPs\u001b[49m\u001b[43m)\u001b[49m\n",
      "File \u001b[0;32m~/.local/lib/python3.10/site-packages/sklearn/base.py:867\u001b[0m, in \u001b[0;36mTransformerMixin.fit_transform\u001b[0;34m(self, X, y, **fit_params)\u001b[0m\n\u001b[1;32m    863\u001b[0m \u001b[38;5;66;03m# non-optimized default implementation; override when a better\u001b[39;00m\n\u001b[1;32m    864\u001b[0m \u001b[38;5;66;03m# method is possible for a given clustering algorithm\u001b[39;00m\n\u001b[1;32m    865\u001b[0m \u001b[38;5;28;01mif\u001b[39;00m y \u001b[38;5;129;01mis\u001b[39;00m \u001b[38;5;28;01mNone\u001b[39;00m:\n\u001b[1;32m    866\u001b[0m     \u001b[38;5;66;03m# fit method of arity 1 (unsupervised transformation)\u001b[39;00m\n\u001b[0;32m--> 867\u001b[0m     \u001b[38;5;28;01mreturn\u001b[39;00m \u001b[38;5;28;43mself\u001b[39;49m\u001b[38;5;241;43m.\u001b[39;49m\u001b[43mfit\u001b[49m\u001b[43m(\u001b[49m\u001b[43mX\u001b[49m\u001b[43m,\u001b[49m\u001b[43m \u001b[49m\u001b[38;5;241;43m*\u001b[39;49m\u001b[38;5;241;43m*\u001b[39;49m\u001b[43mfit_params\u001b[49m\u001b[43m)\u001b[49m\u001b[38;5;241m.\u001b[39mtransform(X)\n\u001b[1;32m    868\u001b[0m \u001b[38;5;28;01melse\u001b[39;00m:\n\u001b[1;32m    869\u001b[0m     \u001b[38;5;66;03m# fit method of arity 2 (supervised transformation)\u001b[39;00m\n\u001b[1;32m    870\u001b[0m     \u001b[38;5;28;01mreturn\u001b[39;00m \u001b[38;5;28mself\u001b[39m\u001b[38;5;241m.\u001b[39mfit(X, y, \u001b[38;5;241m*\u001b[39m\u001b[38;5;241m*\u001b[39mfit_params)\u001b[38;5;241m.\u001b[39mtransform(X)\n",
      "File \u001b[0;32m~/.local/lib/python3.10/site-packages/sklearn/impute/_knn.py:210\u001b[0m, in \u001b[0;36mKNNImputer.fit\u001b[0;34m(self, X, y)\u001b[0m\n\u001b[1;32m    205\u001b[0m \u001b[38;5;28;01mif\u001b[39;00m \u001b[38;5;28mself\u001b[39m\u001b[38;5;241m.\u001b[39mn_neighbors \u001b[38;5;241m<\u001b[39m\u001b[38;5;241m=\u001b[39m \u001b[38;5;241m0\u001b[39m:\n\u001b[1;32m    206\u001b[0m     \u001b[38;5;28;01mraise\u001b[39;00m \u001b[38;5;167;01mValueError\u001b[39;00m(\n\u001b[1;32m    207\u001b[0m         \u001b[38;5;124m\"\u001b[39m\u001b[38;5;124mExpected n_neighbors > 0. Got \u001b[39m\u001b[38;5;132;01m{}\u001b[39;00m\u001b[38;5;124m\"\u001b[39m\u001b[38;5;241m.\u001b[39mformat(\u001b[38;5;28mself\u001b[39m\u001b[38;5;241m.\u001b[39mn_neighbors)\n\u001b[1;32m    208\u001b[0m     )\n\u001b[0;32m--> 210\u001b[0m X \u001b[38;5;241m=\u001b[39m \u001b[38;5;28;43mself\u001b[39;49m\u001b[38;5;241;43m.\u001b[39;49m\u001b[43m_validate_data\u001b[49m\u001b[43m(\u001b[49m\n\u001b[1;32m    211\u001b[0m \u001b[43m    \u001b[49m\u001b[43mX\u001b[49m\u001b[43m,\u001b[49m\n\u001b[1;32m    212\u001b[0m \u001b[43m    \u001b[49m\u001b[43maccept_sparse\u001b[49m\u001b[38;5;241;43m=\u001b[39;49m\u001b[38;5;28;43;01mFalse\u001b[39;49;00m\u001b[43m,\u001b[49m\n\u001b[1;32m    213\u001b[0m \u001b[43m    \u001b[49m\u001b[43mdtype\u001b[49m\u001b[38;5;241;43m=\u001b[39;49m\u001b[43mFLOAT_DTYPES\u001b[49m\u001b[43m,\u001b[49m\n\u001b[1;32m    214\u001b[0m \u001b[43m    \u001b[49m\u001b[43mforce_all_finite\u001b[49m\u001b[38;5;241;43m=\u001b[39;49m\u001b[43mforce_all_finite\u001b[49m\u001b[43m,\u001b[49m\n\u001b[1;32m    215\u001b[0m \u001b[43m    \u001b[49m\u001b[43mcopy\u001b[49m\u001b[38;5;241;43m=\u001b[39;49m\u001b[38;5;28;43mself\u001b[39;49m\u001b[38;5;241;43m.\u001b[39;49m\u001b[43mcopy\u001b[49m\u001b[43m,\u001b[49m\n\u001b[1;32m    216\u001b[0m \u001b[43m\u001b[49m\u001b[43m)\u001b[49m\n\u001b[1;32m    218\u001b[0m _check_weights(\u001b[38;5;28mself\u001b[39m\u001b[38;5;241m.\u001b[39mweights)\n\u001b[1;32m    219\u001b[0m \u001b[38;5;28mself\u001b[39m\u001b[38;5;241m.\u001b[39m_fit_X \u001b[38;5;241m=\u001b[39m X\n",
      "File \u001b[0;32m~/.local/lib/python3.10/site-packages/sklearn/base.py:577\u001b[0m, in \u001b[0;36mBaseEstimator._validate_data\u001b[0;34m(self, X, y, reset, validate_separately, **check_params)\u001b[0m\n\u001b[1;32m    575\u001b[0m     \u001b[38;5;28;01mraise\u001b[39;00m \u001b[38;5;167;01mValueError\u001b[39;00m(\u001b[38;5;124m\"\u001b[39m\u001b[38;5;124mValidation should be done on X, y or both.\u001b[39m\u001b[38;5;124m\"\u001b[39m)\n\u001b[1;32m    576\u001b[0m \u001b[38;5;28;01melif\u001b[39;00m \u001b[38;5;129;01mnot\u001b[39;00m no_val_X \u001b[38;5;129;01mand\u001b[39;00m no_val_y:\n\u001b[0;32m--> 577\u001b[0m     X \u001b[38;5;241m=\u001b[39m \u001b[43mcheck_array\u001b[49m\u001b[43m(\u001b[49m\u001b[43mX\u001b[49m\u001b[43m,\u001b[49m\u001b[43m \u001b[49m\u001b[43minput_name\u001b[49m\u001b[38;5;241;43m=\u001b[39;49m\u001b[38;5;124;43m\"\u001b[39;49m\u001b[38;5;124;43mX\u001b[39;49m\u001b[38;5;124;43m\"\u001b[39;49m\u001b[43m,\u001b[49m\u001b[43m \u001b[49m\u001b[38;5;241;43m*\u001b[39;49m\u001b[38;5;241;43m*\u001b[39;49m\u001b[43mcheck_params\u001b[49m\u001b[43m)\u001b[49m\n\u001b[1;32m    578\u001b[0m     out \u001b[38;5;241m=\u001b[39m X\n\u001b[1;32m    579\u001b[0m \u001b[38;5;28;01melif\u001b[39;00m no_val_X \u001b[38;5;129;01mand\u001b[39;00m \u001b[38;5;129;01mnot\u001b[39;00m no_val_y:\n",
      "File \u001b[0;32m~/.local/lib/python3.10/site-packages/sklearn/utils/validation.py:856\u001b[0m, in \u001b[0;36mcheck_array\u001b[0;34m(array, accept_sparse, accept_large_sparse, dtype, order, copy, force_all_finite, ensure_2d, allow_nd, ensure_min_samples, ensure_min_features, estimator, input_name)\u001b[0m\n\u001b[1;32m    854\u001b[0m         array \u001b[38;5;241m=\u001b[39m array\u001b[38;5;241m.\u001b[39mastype(dtype, casting\u001b[38;5;241m=\u001b[39m\u001b[38;5;124m\"\u001b[39m\u001b[38;5;124munsafe\u001b[39m\u001b[38;5;124m\"\u001b[39m, copy\u001b[38;5;241m=\u001b[39m\u001b[38;5;28;01mFalse\u001b[39;00m)\n\u001b[1;32m    855\u001b[0m     \u001b[38;5;28;01melse\u001b[39;00m:\n\u001b[0;32m--> 856\u001b[0m         array \u001b[38;5;241m=\u001b[39m \u001b[43mnp\u001b[49m\u001b[38;5;241;43m.\u001b[39;49m\u001b[43masarray\u001b[49m\u001b[43m(\u001b[49m\u001b[43marray\u001b[49m\u001b[43m,\u001b[49m\u001b[43m \u001b[49m\u001b[43morder\u001b[49m\u001b[38;5;241;43m=\u001b[39;49m\u001b[43morder\u001b[49m\u001b[43m,\u001b[49m\u001b[43m \u001b[49m\u001b[43mdtype\u001b[49m\u001b[38;5;241;43m=\u001b[39;49m\u001b[43mdtype\u001b[49m\u001b[43m)\u001b[49m\n\u001b[1;32m    857\u001b[0m \u001b[38;5;28;01mexcept\u001b[39;00m ComplexWarning \u001b[38;5;28;01mas\u001b[39;00m complex_warning:\n\u001b[1;32m    858\u001b[0m     \u001b[38;5;28;01mraise\u001b[39;00m \u001b[38;5;167;01mValueError\u001b[39;00m(\n\u001b[1;32m    859\u001b[0m         \u001b[38;5;124m\"\u001b[39m\u001b[38;5;124mComplex data not supported\u001b[39m\u001b[38;5;130;01m\\n\u001b[39;00m\u001b[38;5;132;01m{}\u001b[39;00m\u001b[38;5;130;01m\\n\u001b[39;00m\u001b[38;5;124m\"\u001b[39m\u001b[38;5;241m.\u001b[39mformat(array)\n\u001b[1;32m    860\u001b[0m     ) \u001b[38;5;28;01mfrom\u001b[39;00m \u001b[38;5;21;01mcomplex_warning\u001b[39;00m\n",
      "File \u001b[0;32m~/.local/lib/python3.10/site-packages/pandas/core/generic.py:2070\u001b[0m, in \u001b[0;36mNDFrame.__array__\u001b[0;34m(self, dtype)\u001b[0m\n\u001b[1;32m   2069\u001b[0m \u001b[38;5;28;01mdef\u001b[39;00m \u001b[38;5;21m__array__\u001b[39m(\u001b[38;5;28mself\u001b[39m, dtype: npt\u001b[38;5;241m.\u001b[39mDTypeLike \u001b[38;5;241m|\u001b[39m \u001b[38;5;28;01mNone\u001b[39;00m \u001b[38;5;241m=\u001b[39m \u001b[38;5;28;01mNone\u001b[39;00m) \u001b[38;5;241m-\u001b[39m\u001b[38;5;241m>\u001b[39m np\u001b[38;5;241m.\u001b[39mndarray:\n\u001b[0;32m-> 2070\u001b[0m     \u001b[38;5;28;01mreturn\u001b[39;00m \u001b[43mnp\u001b[49m\u001b[38;5;241;43m.\u001b[39;49m\u001b[43masarray\u001b[49m\u001b[43m(\u001b[49m\u001b[38;5;28;43mself\u001b[39;49m\u001b[38;5;241;43m.\u001b[39;49m\u001b[43m_values\u001b[49m\u001b[43m,\u001b[49m\u001b[43m \u001b[49m\u001b[43mdtype\u001b[49m\u001b[38;5;241;43m=\u001b[39;49m\u001b[43mdtype\u001b[49m\u001b[43m)\u001b[49m\n",
      "\u001b[0;31mValueError\u001b[0m: could not convert string to float: 'exm1786266-0_B_F_1927648616'"
     ]
    }
   ],
   "source": [
    "# Utiliser KNNImputer pour imputer les valeurs manquantes en utilisant les 3 plus proches voisins\n",
    "imputer = KNNImputer(n_neighbors=3)\n",
    "imputed_df = imputer.fit_transform(df__33SNPs)"
   ]
  }
 ],
 "metadata": {
  "kernelspec": {
   "display_name": "Python 3 (ipykernel)",
   "language": "python",
   "name": "python3"
  },
  "language_info": {
   "codemirror_mode": {
    "name": "ipython",
    "version": 3
   },
   "file_extension": ".py",
   "mimetype": "text/x-python",
   "name": "python",
   "nbconvert_exporter": "python",
   "pygments_lexer": "ipython3",
   "version": "3.10.6"
  }
 },
 "nbformat": 4,
 "nbformat_minor": 5
}
