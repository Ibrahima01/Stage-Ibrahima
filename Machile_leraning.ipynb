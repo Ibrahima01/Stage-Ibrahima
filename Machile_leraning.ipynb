{
 "cells": [
  {
   "cell_type": "code",
   "execution_count": 7,
   "metadata": {},
   "outputs": [
    {
     "name": "stdout",
     "output_type": "stream",
     "text": [
      "23/05/19 04:39:26 WARN Utils: Your hostname, legrand-Aspire-A315-54K resolves to a loopback address: 127.0.1.1; using 192.168.67.128 instead (on interface wlp2s0)\n",
      "23/05/19 04:39:26 WARN Utils: Set SPARK_LOCAL_IP if you need to bind to another address\n"
     ]
    },
    {
     "name": "stderr",
     "output_type": "stream",
     "text": [
      "Setting default log level to \"WARN\".\n",
      "To adjust logging level use sc.setLogLevel(newLevel). For SparkR, use setLogLevel(newLevel).\n"
     ]
    },
    {
     "name": "stdout",
     "output_type": "stream",
     "text": [
      "23/05/19 04:39:28 WARN NativeCodeLoader: Unable to load native-hadoop library for your platform... using builtin-java classes where applicable\n"
     ]
    }
   ],
   "source": [
    "from pyspark.sql import SparkSession\n",
    "spark = SparkSession.builder.appName(\"Machine_learning\").getOrCreate()"
   ]
  },
  {
   "cell_type": "code",
   "execution_count": 2,
   "metadata": {},
   "outputs": [
    {
     "name": "stderr",
     "output_type": "stream",
     "text": [
      "                                                                                \r"
     ]
    }
   ],
   "source": [
    "# Chargement du fichier GSE148375_processed_data.txt dans un DataFrame\n",
    "df_gse = spark.read.csv(\"GSE148375_processed_data.txt\", sep=\"\\t\", header=True, inferSchema=True)"
   ]
  },
  {
   "cell_type": "code",
   "execution_count": 3,
   "metadata": {},
   "outputs": [],
   "source": [
    "from pyspark.sql.functions import col\n",
    "\n",
    "# Liste des caractères à supprimer\n",
    "caracteres_a_supprimer = [\"DD\", \"DI\", \"ID\", \"II\"]\n",
    "\n",
    "# Filtrage des lignes contenant les caractères à supprimer\n",
    "for col_name in df_gse.columns:\n",
    "    df_gse_clean = df_gse.filter(~col(col_name).isin(caracteres_a_supprimer))\n"
   ]
  },
  {
   "cell_type": "code",
   "execution_count": 5,
   "metadata": {},
   "outputs": [
    {
     "name": "stderr",
     "output_type": "stream",
     "text": [
      "                                                                                \r"
     ]
    }
   ],
   "source": [
    "#Fusionner toutes les partitions en une seule\n",
    "df_gse_clean = df_gse_clean.coalesce(1)\n",
    "\n",
    "# Enregistrer les données dans un seul fichier CSV\n",
    "df_gse_clean.write.format(\"csv\").option(\"header\", True).option(\"delimiter\", \"\\t\").save(\"GSE_clean\")"
   ]
  },
  {
   "cell_type": "code",
   "execution_count": 5,
   "metadata": {},
   "outputs": [],
   "source": [
    "import os\n",
    "\n",
    "def merge_csv_files(file1_path, file2_path, output_file_path):\n",
    "    # Lecture du contenu du premier fichier\n",
    "    with open(file1_path, 'r') as file1:\n",
    "        file1_content = file1.read()\n",
    "    \n",
    "    # Lecture du contenu du deuxième fichier\n",
    "    with open(file2_path, 'r') as file2:\n",
    "        file2_content = file2.read()\n",
    "    \n",
    "    # Fusion des contenus des deux fichiers\n",
    "    merged_content = file1_content + file2_content\n",
    "    \n",
    "    # Écriture du contenu fusionné dans le fichier de sortie\n",
    "    with open(output_file_path, 'w') as output_file:\n",
    "        output_file.write(merged_content)\n",
    "\n",
    "# Chemin des fichiers d'entrée\n",
    "file1_path = 'GSE_clean/echantillon.csv'\n",
    "file2_path = 'GSE_clean/echantillon_10.csv'\n",
    "\n",
    "# Chemin du fichier de sortie\n",
    "output_file_path = 'GSE_clean/echantillon_finale.csv'\n",
    "\n",
    "# Fusion des fichiers CSV\n",
    "merge_csv_files(file1_path, file2_path, output_file_path)\n"
   ]
  },
  {
   "cell_type": "code",
   "execution_count": 6,
   "metadata": {},
   "outputs": [],
   "source": [
    "with open('GSE_clean/echantillon_finale.csv', 'r') as input_file:\n",
    "    # Lecture des lignes du fichier\n",
    "    lines = input_file.readlines()\n",
    "    \n",
    "    # Création d'une liste de listes contenant les valeurs\n",
    "    values = [line.strip().split('\\t') for line in lines]\n",
    "    \n",
    "    # Vérification si toutes les lignes ont le même nombre de colonnes\n",
    "    num_cols = len(values[0])\n",
    "    if not all(len(row) == num_cols for row in values):\n",
    "        raise ValueError(\"Le nombre de colonnes n'est pas cohérent dans le fichier CSV.\")\n",
    "    \n",
    "    # Initialisation d'une liste de listes pour stocker les colonnes transposées\n",
    "    transposed = [[] for _ in range(num_cols)]\n",
    "    \n",
    "    # Itération sur les lignes pour remplir les colonnes transposées\n",
    "    for row in values:\n",
    "        for i in range(num_cols):\n",
    "            transposed[i].append(row[i])\n",
    "    \n",
    "    # Écriture des colonnes transposées dans un nouveau fichier CSV\n",
    "    with open('GSE_clean/gse_clean_transposed.csv', 'w') as output_file:\n",
    "        for row in transposed:\n",
    "            output_file.write('\\t'.join(row) + '\\n')\n"
   ]
  },
  {
   "cell_type": "code",
   "execution_count": 13,
   "metadata": {},
   "outputs": [],
   "source": [
    "df_echantillon = spark.read.csv(\"GSE_clean/gse_clean_transposed.csv\", sep=\"\\t\", header=True, inferSchema=True)\n",
    "df_pheno = spark.read.csv(\"Phenotype/part-00000-f40e2b0b-25ae-4e3a-84d6-9f2b966e342d-c000.csv\", sep=\"\\t\", header=True, inferSchema=True)"
   ]
  },
  {
   "cell_type": "code",
   "execution_count": 15,
   "metadata": {},
   "outputs": [],
   "source": [
    "df_pheno=df_pheno.select(\"ID\", \"Smoking_status\")"
   ]
  },
  {
   "cell_type": "code",
   "execution_count": 16,
   "metadata": {},
   "outputs": [],
   "source": [
    "# Jointure des deux DataFrames sur la colonne \"ID\"\n",
    "df_join = df_echantillon.join(df_pheno, on=\"ID\")"
   ]
  },
  {
   "cell_type": "code",
   "execution_count": 17,
   "metadata": {},
   "outputs": [
    {
     "name": "stdout",
     "output_type": "stream",
     "text": [
      "+-------+-------------------------+--------------------------+--------------------------+--------------------------+---------------------------+---------------------------+---------------------------+---------------------------+--------------------------+--------------------------+--------------+\n",
      "|     ID|exm62331-0_B_F_1921533749|exm971599-0_T_R_1918203374|exm952264-0_B_F_1918318121|exm101625-0_T_R_1919127660|exm1398889-0_T_F_2060152601|exm1531546-0_T_R_1922618828|exm1271240-0_T_R_1921669182|exm1549624-0_B_F_1922672245|exm234437-0_T_F_1918976439|exm683933-0_T_R_2060422306|Smoking_status|\n",
      "+-------+-------------------------+--------------------------+--------------------------+--------------------------+---------------------------+---------------------------+---------------------------+---------------------------+--------------------------+--------------------------+--------------+\n",
      "|1900017|                       GG|                        GG|                        GG|                        GG|                         GG|                         GG|                         GG|                         GG|                        AA|                        AA|    Non-smoker|\n",
      "|1900029|                       GG|                        GG|                        GG|                        GG|                         GG|                         GG|                         GG|                         GG|                        AA|                        AA|        Smoker|\n",
      "|1900030|                       GG|                        GG|                        GG|                        GG|                         GG|                         GG|                         GG|                         GG|                        AA|                        AA|        Smoker|\n",
      "|1900031|                       GG|                        GG|                        GG|                        GG|                         GG|                         GG|                         GG|                         GG|                        AA|                        AA|    Non-smoker|\n",
      "|1900040|                       GG|                        GG|                        GG|                        GG|                         GG|                         GG|                         GG|                         GG|                        AA|                        AA|        Smoker|\n",
      "+-------+-------------------------+--------------------------+--------------------------+--------------------------+---------------------------+---------------------------+---------------------------+---------------------------+--------------------------+--------------------------+--------------+\n",
      "only showing top 5 rows\n",
      "\n"
     ]
    }
   ],
   "source": [
    "df_join.show(5)"
   ]
  },
  {
   "cell_type": "code",
   "execution_count": 19,
   "metadata": {},
   "outputs": [],
   "source": [
    "#Fusionner toutes les partitions en une seule\n",
    "df_join = df_join.coalesce(1)\n",
    "\n",
    "# Enregistrer les données dans un seul fichier CSV\n",
    "df_join.write.format(\"csv\").option(\"header\", True).option(\"delimiter\", \"\\t\").save(\"GSE_clean/dataset\")"
   ]
  },
  {
   "cell_type": "code",
   "execution_count": 36,
   "metadata": {},
   "outputs": [],
   "source": [
    "from sklearn import svm\n",
    "from sklearn.model_selection import train_test_split\n",
    "from sklearn.metrics import accuracy_score\n",
    "import pandas as pd"
   ]
  },
  {
   "cell_type": "code",
   "execution_count": 23,
   "metadata": {},
   "outputs": [],
   "source": [
    "# Charger les données\n",
    "data = pd.read_csv('GSE_clean/dataset/part-00000-24579e76-0819-4ab8-9014-067658729222-c000.csv', sep='\\t')"
   ]
  },
  {
   "cell_type": "code",
   "execution_count": 24,
   "metadata": {},
   "outputs": [
    {
     "data": {
      "text/html": [
       "<div>\n",
       "<style scoped>\n",
       "    .dataframe tbody tr th:only-of-type {\n",
       "        vertical-align: middle;\n",
       "    }\n",
       "\n",
       "    .dataframe tbody tr th {\n",
       "        vertical-align: top;\n",
       "    }\n",
       "\n",
       "    .dataframe thead th {\n",
       "        text-align: right;\n",
       "    }\n",
       "</style>\n",
       "<table border=\"1\" class=\"dataframe\">\n",
       "  <thead>\n",
       "    <tr style=\"text-align: right;\">\n",
       "      <th></th>\n",
       "      <th>ID</th>\n",
       "      <th>exm62331-0_B_F_1921533749</th>\n",
       "      <th>exm971599-0_T_R_1918203374</th>\n",
       "      <th>exm952264-0_B_F_1918318121</th>\n",
       "      <th>exm101625-0_T_R_1919127660</th>\n",
       "      <th>exm1398889-0_T_F_2060152601</th>\n",
       "      <th>exm1531546-0_T_R_1922618828</th>\n",
       "      <th>exm1271240-0_T_R_1921669182</th>\n",
       "      <th>exm1549624-0_B_F_1922672245</th>\n",
       "      <th>exm234437-0_T_F_1918976439</th>\n",
       "      <th>exm683933-0_T_R_2060422306</th>\n",
       "      <th>Smoking_status</th>\n",
       "    </tr>\n",
       "  </thead>\n",
       "  <tbody>\n",
       "    <tr>\n",
       "      <th>0</th>\n",
       "      <td>1900017</td>\n",
       "      <td>GG</td>\n",
       "      <td>GG</td>\n",
       "      <td>GG</td>\n",
       "      <td>GG</td>\n",
       "      <td>GG</td>\n",
       "      <td>GG</td>\n",
       "      <td>GG</td>\n",
       "      <td>GG</td>\n",
       "      <td>AA</td>\n",
       "      <td>AA</td>\n",
       "      <td>Non-smoker</td>\n",
       "    </tr>\n",
       "    <tr>\n",
       "      <th>1</th>\n",
       "      <td>1900029</td>\n",
       "      <td>GG</td>\n",
       "      <td>GG</td>\n",
       "      <td>GG</td>\n",
       "      <td>GG</td>\n",
       "      <td>GG</td>\n",
       "      <td>GG</td>\n",
       "      <td>GG</td>\n",
       "      <td>GG</td>\n",
       "      <td>AA</td>\n",
       "      <td>AA</td>\n",
       "      <td>Smoker</td>\n",
       "    </tr>\n",
       "    <tr>\n",
       "      <th>2</th>\n",
       "      <td>1900030</td>\n",
       "      <td>GG</td>\n",
       "      <td>GG</td>\n",
       "      <td>GG</td>\n",
       "      <td>GG</td>\n",
       "      <td>GG</td>\n",
       "      <td>GG</td>\n",
       "      <td>GG</td>\n",
       "      <td>GG</td>\n",
       "      <td>AA</td>\n",
       "      <td>AA</td>\n",
       "      <td>Smoker</td>\n",
       "    </tr>\n",
       "    <tr>\n",
       "      <th>3</th>\n",
       "      <td>1900031</td>\n",
       "      <td>GG</td>\n",
       "      <td>GG</td>\n",
       "      <td>GG</td>\n",
       "      <td>GG</td>\n",
       "      <td>GG</td>\n",
       "      <td>GG</td>\n",
       "      <td>GG</td>\n",
       "      <td>GG</td>\n",
       "      <td>AA</td>\n",
       "      <td>AA</td>\n",
       "      <td>Non-smoker</td>\n",
       "    </tr>\n",
       "    <tr>\n",
       "      <th>4</th>\n",
       "      <td>1900040</td>\n",
       "      <td>GG</td>\n",
       "      <td>GG</td>\n",
       "      <td>GG</td>\n",
       "      <td>GG</td>\n",
       "      <td>GG</td>\n",
       "      <td>GG</td>\n",
       "      <td>GG</td>\n",
       "      <td>GG</td>\n",
       "      <td>AA</td>\n",
       "      <td>AA</td>\n",
       "      <td>Smoker</td>\n",
       "    </tr>\n",
       "  </tbody>\n",
       "</table>\n",
       "</div>"
      ],
      "text/plain": [
       "        ID exm62331-0_B_F_1921533749 exm971599-0_T_R_1918203374  \\\n",
       "0  1900017                        GG                         GG   \n",
       "1  1900029                        GG                         GG   \n",
       "2  1900030                        GG                         GG   \n",
       "3  1900031                        GG                         GG   \n",
       "4  1900040                        GG                         GG   \n",
       "\n",
       "  exm952264-0_B_F_1918318121 exm101625-0_T_R_1919127660  \\\n",
       "0                         GG                         GG   \n",
       "1                         GG                         GG   \n",
       "2                         GG                         GG   \n",
       "3                         GG                         GG   \n",
       "4                         GG                         GG   \n",
       "\n",
       "  exm1398889-0_T_F_2060152601 exm1531546-0_T_R_1922618828  \\\n",
       "0                          GG                          GG   \n",
       "1                          GG                          GG   \n",
       "2                          GG                          GG   \n",
       "3                          GG                          GG   \n",
       "4                          GG                          GG   \n",
       "\n",
       "  exm1271240-0_T_R_1921669182 exm1549624-0_B_F_1922672245  \\\n",
       "0                          GG                          GG   \n",
       "1                          GG                          GG   \n",
       "2                          GG                          GG   \n",
       "3                          GG                          GG   \n",
       "4                          GG                          GG   \n",
       "\n",
       "  exm234437-0_T_F_1918976439 exm683933-0_T_R_2060422306 Smoking_status  \n",
       "0                         AA                         AA     Non-smoker  \n",
       "1                         AA                         AA         Smoker  \n",
       "2                         AA                         AA         Smoker  \n",
       "3                         AA                         AA     Non-smoker  \n",
       "4                         AA                         AA         Smoker  "
      ]
     },
     "execution_count": 24,
     "metadata": {},
     "output_type": "execute_result"
    }
   ],
   "source": [
    "data.head()"
   ]
  },
  {
   "cell_type": "code",
   "execution_count": 30,
   "metadata": {},
   "outputs": [],
   "source": [
    "# Convertir les génotypes SNP en variables indicatrices (one-hot encoding)\n",
    "snp_encoded_1 = pd.get_dummies(data['exm62331-0_B_F_1921533749'])\n",
    "snp_encoded_2 = pd.get_dummies(data['exm971599-0_T_R_1918203374'])\n",
    "snp_encoded_3 = pd.get_dummies(data['exm952264-0_B_F_1918318121'])\n",
    "snp_encoded_4 = pd.get_dummies(data['exm101625-0_T_R_1919127660'])\n",
    "snp_encoded_5 = pd.get_dummies(data['exm1398889-0_T_F_2060152601'])\n",
    "snp_encoded_6 = pd.get_dummies(data['exm1531546-0_T_R_1922618828'])\n",
    "snp_encoded_7 = pd.get_dummies(data['exm1271240-0_T_R_1921669182'])\n",
    "snp_encoded_8 = pd.get_dummies(data['exm1549624-0_B_F_1922672245'])\n",
    "snp_encoded_9 = pd.get_dummies(data['exm234437-0_T_F_1918976439'])\n",
    "snp_encoded_10 = pd.get_dummies(data['exm683933-0_T_R_2060422306'])\n",
    "\n",
    "# Convertir la variable cible en variables indicatrices (one-hot encoding)\n",
    "label_encoded = pd.get_dummies(data['Smoking_status'])"
   ]
  },
  {
   "cell_type": "code",
   "execution_count": 31,
   "metadata": {},
   "outputs": [],
   "source": [
    "encoded_df = pd.concat([snp_encoded_1, snp_encoded_2, snp_encoded_3, snp_encoded_4, snp_encoded_5, snp_encoded_6, snp_encoded_7, snp_encoded_8, snp_encoded_9, snp_encoded_10, label_encoded], axis=1)"
   ]
  },
  {
   "cell_type": "code",
   "execution_count": 32,
   "metadata": {},
   "outputs": [],
   "source": [
    "# Diviser les données en ensemble d'entraînement et ensemble de test\n",
    "train_data, test_data, train_labels, test_labels = train_test_split(encoded_df.iloc[:, :-1], encoded_df.iloc[:, -1], test_size=0.2, random_state=42)"
   ]
  },
  {
   "cell_type": "code",
   "execution_count": 33,
   "metadata": {},
   "outputs": [
    {
     "data": {
      "text/html": [
       "<style>#sk-container-id-1 {color: black;background-color: white;}#sk-container-id-1 pre{padding: 0;}#sk-container-id-1 div.sk-toggleable {background-color: white;}#sk-container-id-1 label.sk-toggleable__label {cursor: pointer;display: block;width: 100%;margin-bottom: 0;padding: 0.3em;box-sizing: border-box;text-align: center;}#sk-container-id-1 label.sk-toggleable__label-arrow:before {content: \"▸\";float: left;margin-right: 0.25em;color: #696969;}#sk-container-id-1 label.sk-toggleable__label-arrow:hover:before {color: black;}#sk-container-id-1 div.sk-estimator:hover label.sk-toggleable__label-arrow:before {color: black;}#sk-container-id-1 div.sk-toggleable__content {max-height: 0;max-width: 0;overflow: hidden;text-align: left;background-color: #f0f8ff;}#sk-container-id-1 div.sk-toggleable__content pre {margin: 0.2em;color: black;border-radius: 0.25em;background-color: #f0f8ff;}#sk-container-id-1 input.sk-toggleable__control:checked~div.sk-toggleable__content {max-height: 200px;max-width: 100%;overflow: auto;}#sk-container-id-1 input.sk-toggleable__control:checked~label.sk-toggleable__label-arrow:before {content: \"▾\";}#sk-container-id-1 div.sk-estimator input.sk-toggleable__control:checked~label.sk-toggleable__label {background-color: #d4ebff;}#sk-container-id-1 div.sk-label input.sk-toggleable__control:checked~label.sk-toggleable__label {background-color: #d4ebff;}#sk-container-id-1 input.sk-hidden--visually {border: 0;clip: rect(1px 1px 1px 1px);clip: rect(1px, 1px, 1px, 1px);height: 1px;margin: -1px;overflow: hidden;padding: 0;position: absolute;width: 1px;}#sk-container-id-1 div.sk-estimator {font-family: monospace;background-color: #f0f8ff;border: 1px dotted black;border-radius: 0.25em;box-sizing: border-box;margin-bottom: 0.5em;}#sk-container-id-1 div.sk-estimator:hover {background-color: #d4ebff;}#sk-container-id-1 div.sk-parallel-item::after {content: \"\";width: 100%;border-bottom: 1px solid gray;flex-grow: 1;}#sk-container-id-1 div.sk-label:hover label.sk-toggleable__label {background-color: #d4ebff;}#sk-container-id-1 div.sk-serial::before {content: \"\";position: absolute;border-left: 1px solid gray;box-sizing: border-box;top: 0;bottom: 0;left: 50%;z-index: 0;}#sk-container-id-1 div.sk-serial {display: flex;flex-direction: column;align-items: center;background-color: white;padding-right: 0.2em;padding-left: 0.2em;position: relative;}#sk-container-id-1 div.sk-item {position: relative;z-index: 1;}#sk-container-id-1 div.sk-parallel {display: flex;align-items: stretch;justify-content: center;background-color: white;position: relative;}#sk-container-id-1 div.sk-item::before, #sk-container-id-1 div.sk-parallel-item::before {content: \"\";position: absolute;border-left: 1px solid gray;box-sizing: border-box;top: 0;bottom: 0;left: 50%;z-index: -1;}#sk-container-id-1 div.sk-parallel-item {display: flex;flex-direction: column;z-index: 1;position: relative;background-color: white;}#sk-container-id-1 div.sk-parallel-item:first-child::after {align-self: flex-end;width: 50%;}#sk-container-id-1 div.sk-parallel-item:last-child::after {align-self: flex-start;width: 50%;}#sk-container-id-1 div.sk-parallel-item:only-child::after {width: 0;}#sk-container-id-1 div.sk-dashed-wrapped {border: 1px dashed gray;margin: 0 0.4em 0.5em 0.4em;box-sizing: border-box;padding-bottom: 0.4em;background-color: white;}#sk-container-id-1 div.sk-label label {font-family: monospace;font-weight: bold;display: inline-block;line-height: 1.2em;}#sk-container-id-1 div.sk-label-container {text-align: center;}#sk-container-id-1 div.sk-container {/* jupyter's `normalize.less` sets `[hidden] { display: none; }` but bootstrap.min.css set `[hidden] { display: none !important; }` so we also need the `!important` here to be able to override the default hidden behavior on the sphinx rendered scikit-learn.org. See: https://github.com/scikit-learn/scikit-learn/issues/21755 */display: inline-block !important;position: relative;}#sk-container-id-1 div.sk-text-repr-fallback {display: none;}</style><div id=\"sk-container-id-1\" class=\"sk-top-container\"><div class=\"sk-text-repr-fallback\"><pre>SVC(kernel=&#x27;linear&#x27;)</pre><b>In a Jupyter environment, please rerun this cell to show the HTML representation or trust the notebook. <br />On GitHub, the HTML representation is unable to render, please try loading this page with nbviewer.org.</b></div><div class=\"sk-container\" hidden><div class=\"sk-item\"><div class=\"sk-estimator sk-toggleable\"><input class=\"sk-toggleable__control sk-hidden--visually\" id=\"sk-estimator-id-1\" type=\"checkbox\" checked><label for=\"sk-estimator-id-1\" class=\"sk-toggleable__label sk-toggleable__label-arrow\">SVC</label><div class=\"sk-toggleable__content\"><pre>SVC(kernel=&#x27;linear&#x27;)</pre></div></div></div></div></div>"
      ],
      "text/plain": [
       "SVC(kernel='linear')"
      ]
     },
     "execution_count": 33,
     "metadata": {},
     "output_type": "execute_result"
    }
   ],
   "source": [
    "# Créer et entraîner le modèle SVM\n",
    "model = svm.SVC(kernel='linear')\n",
    "model.fit(train_data, train_labels)"
   ]
  },
  {
   "cell_type": "code",
   "execution_count": 34,
   "metadata": {},
   "outputs": [],
   "source": [
    "# Prédire les labels pour l'ensemble de test\n",
    "predictions = model.predict(test_data)"
   ]
  },
  {
   "cell_type": "code",
   "execution_count": 37,
   "metadata": {},
   "outputs": [
    {
     "name": "stdout",
     "output_type": "stream",
     "text": [
      "Accuracy: 1.0\n"
     ]
    }
   ],
   "source": [
    "# Calculer l'accuracy\n",
    "accuracy = accuracy_score(test_labels, predictions)\n",
    "print(\"Accuracy:\", accuracy)"
   ]
  },
  {
   "cell_type": "markdown",
   "metadata": {},
   "source": [
    "# Avec 100 SNPs"
   ]
  },
  {
   "cell_type": "code",
   "execution_count": 39,
   "metadata": {},
   "outputs": [],
   "source": [
    "import os\n",
    "\n",
    "def merge_csv_files(file1_path, file2_path, output_file_path):\n",
    "    # Lecture du contenu du premier fichier\n",
    "    with open(file1_path, 'r') as file1:\n",
    "        file1_content = file1.read()\n",
    "    \n",
    "    # Lecture du contenu du deuxième fichier\n",
    "    with open(file2_path, 'r') as file2:\n",
    "        file2_content = file2.read()\n",
    "    \n",
    "    # Fusion des contenus des deux fichiers\n",
    "    merged_content = file1_content + file2_content\n",
    "    \n",
    "    # Écriture du contenu fusionné dans le fichier de sortie\n",
    "    with open(output_file_path, 'w') as output_file:\n",
    "        output_file.write(merged_content)\n",
    "\n",
    "# Chemin des fichiers d'entrée\n",
    "file1_path = 'GSE_clean/echantillon.csv'\n",
    "file2_path = 'GSE_clean/ech_100.csv'\n",
    "\n",
    "# Chemin du fichier de sortie\n",
    "output_file_path = 'GSE_clean/echantillon_finale.csv'\n",
    "\n",
    "# Fusion des fichiers CSV\n",
    "merge_csv_files(file1_path, file2_path, output_file_path)"
   ]
  },
  {
   "cell_type": "code",
   "execution_count": 40,
   "metadata": {},
   "outputs": [],
   "source": [
    "with open('GSE_clean/echantillon_finale.csv', 'r') as input_file:\n",
    "    # Lecture des lignes du fichier\n",
    "    lines = input_file.readlines()\n",
    "    \n",
    "    # Création d'une liste de listes contenant les valeurs\n",
    "    values = [line.strip().split('\\t') for line in lines]\n",
    "    \n",
    "    # Vérification si toutes les lignes ont le même nombre de colonnes\n",
    "    num_cols = len(values[0])\n",
    "    if not all(len(row) == num_cols for row in values):\n",
    "        raise ValueError(\"Le nombre de colonnes n'est pas cohérent dans le fichier CSV.\")\n",
    "    \n",
    "    # Initialisation d'une liste de listes pour stocker les colonnes transposées\n",
    "    transposed = [[] for _ in range(num_cols)]\n",
    "    \n",
    "    # Itération sur les lignes pour remplir les colonnes transposées\n",
    "    for row in values:\n",
    "        for i in range(num_cols):\n",
    "            transposed[i].append(row[i])\n",
    "    \n",
    "    # Écriture des colonnes transposées dans un nouveau fichier CSV\n",
    "    with open('GSE_clean/gse_clean_transposed_100.csv', 'w') as output_file:\n",
    "        for row in transposed:\n",
    "            output_file.write('\\t'.join(row) + '\\n')\n"
   ]
  },
  {
   "cell_type": "code",
   "execution_count": 41,
   "metadata": {},
   "outputs": [
    {
     "name": "stderr",
     "output_type": "stream",
     "text": [
      "                                                                                \r"
     ]
    }
   ],
   "source": [
    "df_echantillon_100=spark.read.csv(\"GSE_clean/gse_clean_transposed_100.csv\", sep=\"\\t\", header=True, inferSchema=True)"
   ]
  },
  {
   "cell_type": "code",
   "execution_count": 42,
   "metadata": {},
   "outputs": [],
   "source": [
    "# Jointure des deux DataFrames sur la colonne \"ID\"\n",
    "df_join_100 = df_echantillon_100.join(df_pheno, on=\"ID\")"
   ]
  },
  {
   "cell_type": "code",
   "execution_count": 43,
   "metadata": {},
   "outputs": [
    {
     "name": "stderr",
     "output_type": "stream",
     "text": [
      "                                                                                \r"
     ]
    }
   ],
   "source": [
    "#Fusionner toutes les partitions en une seule\n",
    "df_join_100 = df_join_100.coalesce(1)\n",
    "\n",
    "# Enregistrer les données dans un seul fichier CSV\n",
    "df_join_100.write.format(\"csv\").option(\"header\", True).option(\"delimiter\", \"\\t\").save(\"GSE_clean/dataset_100\")"
   ]
  },
  {
   "cell_type": "code",
   "execution_count": 44,
   "metadata": {},
   "outputs": [],
   "source": [
    "# Charger les données\n",
    "data = pd.read_csv('GSE_clean/dataset_100/part-00000-f5a9ff70-ab1c-4ab6-a97b-8d529a2b3ea3-c000.csv', sep='\\t')"
   ]
  },
  {
   "cell_type": "code",
   "execution_count": 45,
   "metadata": {},
   "outputs": [],
   "source": [
    "data=data.drop('ID', axis=1)"
   ]
  },
  {
   "cell_type": "code",
   "execution_count": 46,
   "metadata": {},
   "outputs": [],
   "source": [
    "data=pd.get_dummies(data)"
   ]
  },
  {
   "cell_type": "code",
   "execution_count": 47,
   "metadata": {},
   "outputs": [],
   "source": [
    "encoded_df_100=pd.concat([data],axis=1)"
   ]
  },
  {
   "cell_type": "code",
   "execution_count": 49,
   "metadata": {},
   "outputs": [],
   "source": [
    "# Diviser les données en ensemble d'entraînement et ensemble de test\n",
    "train_data, test_data, train_labels, test_labels = train_test_split(encoded_df_100.iloc[:, :-1], encoded_df.iloc[:, -1], test_size=0.2, random_state=42)"
   ]
  },
  {
   "cell_type": "code",
   "execution_count": 50,
   "metadata": {},
   "outputs": [
    {
     "data": {
      "text/html": [
       "<style>#sk-container-id-2 {color: black;background-color: white;}#sk-container-id-2 pre{padding: 0;}#sk-container-id-2 div.sk-toggleable {background-color: white;}#sk-container-id-2 label.sk-toggleable__label {cursor: pointer;display: block;width: 100%;margin-bottom: 0;padding: 0.3em;box-sizing: border-box;text-align: center;}#sk-container-id-2 label.sk-toggleable__label-arrow:before {content: \"▸\";float: left;margin-right: 0.25em;color: #696969;}#sk-container-id-2 label.sk-toggleable__label-arrow:hover:before {color: black;}#sk-container-id-2 div.sk-estimator:hover label.sk-toggleable__label-arrow:before {color: black;}#sk-container-id-2 div.sk-toggleable__content {max-height: 0;max-width: 0;overflow: hidden;text-align: left;background-color: #f0f8ff;}#sk-container-id-2 div.sk-toggleable__content pre {margin: 0.2em;color: black;border-radius: 0.25em;background-color: #f0f8ff;}#sk-container-id-2 input.sk-toggleable__control:checked~div.sk-toggleable__content {max-height: 200px;max-width: 100%;overflow: auto;}#sk-container-id-2 input.sk-toggleable__control:checked~label.sk-toggleable__label-arrow:before {content: \"▾\";}#sk-container-id-2 div.sk-estimator input.sk-toggleable__control:checked~label.sk-toggleable__label {background-color: #d4ebff;}#sk-container-id-2 div.sk-label input.sk-toggleable__control:checked~label.sk-toggleable__label {background-color: #d4ebff;}#sk-container-id-2 input.sk-hidden--visually {border: 0;clip: rect(1px 1px 1px 1px);clip: rect(1px, 1px, 1px, 1px);height: 1px;margin: -1px;overflow: hidden;padding: 0;position: absolute;width: 1px;}#sk-container-id-2 div.sk-estimator {font-family: monospace;background-color: #f0f8ff;border: 1px dotted black;border-radius: 0.25em;box-sizing: border-box;margin-bottom: 0.5em;}#sk-container-id-2 div.sk-estimator:hover {background-color: #d4ebff;}#sk-container-id-2 div.sk-parallel-item::after {content: \"\";width: 100%;border-bottom: 1px solid gray;flex-grow: 1;}#sk-container-id-2 div.sk-label:hover label.sk-toggleable__label {background-color: #d4ebff;}#sk-container-id-2 div.sk-serial::before {content: \"\";position: absolute;border-left: 1px solid gray;box-sizing: border-box;top: 0;bottom: 0;left: 50%;z-index: 0;}#sk-container-id-2 div.sk-serial {display: flex;flex-direction: column;align-items: center;background-color: white;padding-right: 0.2em;padding-left: 0.2em;position: relative;}#sk-container-id-2 div.sk-item {position: relative;z-index: 1;}#sk-container-id-2 div.sk-parallel {display: flex;align-items: stretch;justify-content: center;background-color: white;position: relative;}#sk-container-id-2 div.sk-item::before, #sk-container-id-2 div.sk-parallel-item::before {content: \"\";position: absolute;border-left: 1px solid gray;box-sizing: border-box;top: 0;bottom: 0;left: 50%;z-index: -1;}#sk-container-id-2 div.sk-parallel-item {display: flex;flex-direction: column;z-index: 1;position: relative;background-color: white;}#sk-container-id-2 div.sk-parallel-item:first-child::after {align-self: flex-end;width: 50%;}#sk-container-id-2 div.sk-parallel-item:last-child::after {align-self: flex-start;width: 50%;}#sk-container-id-2 div.sk-parallel-item:only-child::after {width: 0;}#sk-container-id-2 div.sk-dashed-wrapped {border: 1px dashed gray;margin: 0 0.4em 0.5em 0.4em;box-sizing: border-box;padding-bottom: 0.4em;background-color: white;}#sk-container-id-2 div.sk-label label {font-family: monospace;font-weight: bold;display: inline-block;line-height: 1.2em;}#sk-container-id-2 div.sk-label-container {text-align: center;}#sk-container-id-2 div.sk-container {/* jupyter's `normalize.less` sets `[hidden] { display: none; }` but bootstrap.min.css set `[hidden] { display: none !important; }` so we also need the `!important` here to be able to override the default hidden behavior on the sphinx rendered scikit-learn.org. See: https://github.com/scikit-learn/scikit-learn/issues/21755 */display: inline-block !important;position: relative;}#sk-container-id-2 div.sk-text-repr-fallback {display: none;}</style><div id=\"sk-container-id-2\" class=\"sk-top-container\"><div class=\"sk-text-repr-fallback\"><pre>SVC(kernel=&#x27;linear&#x27;)</pre><b>In a Jupyter environment, please rerun this cell to show the HTML representation or trust the notebook. <br />On GitHub, the HTML representation is unable to render, please try loading this page with nbviewer.org.</b></div><div class=\"sk-container\" hidden><div class=\"sk-item\"><div class=\"sk-estimator sk-toggleable\"><input class=\"sk-toggleable__control sk-hidden--visually\" id=\"sk-estimator-id-2\" type=\"checkbox\" checked><label for=\"sk-estimator-id-2\" class=\"sk-toggleable__label sk-toggleable__label-arrow\">SVC</label><div class=\"sk-toggleable__content\"><pre>SVC(kernel=&#x27;linear&#x27;)</pre></div></div></div></div></div>"
      ],
      "text/plain": [
       "SVC(kernel='linear')"
      ]
     },
     "execution_count": 50,
     "metadata": {},
     "output_type": "execute_result"
    }
   ],
   "source": [
    "# Créer et entraîner le modèle SVM\n",
    "model = svm.SVC(kernel='linear')\n",
    "model.fit(train_data, train_labels)"
   ]
  },
  {
   "cell_type": "code",
   "execution_count": 51,
   "metadata": {},
   "outputs": [],
   "source": [
    "# Prédire les labels pour l'ensemble de test\n",
    "predictions = model.predict(test_data)"
   ]
  },
  {
   "cell_type": "code",
   "execution_count": 52,
   "metadata": {},
   "outputs": [
    {
     "name": "stdout",
     "output_type": "stream",
     "text": [
      "Accuracy: 1.0\n"
     ]
    }
   ],
   "source": [
    "# Calculer l'accuracy\n",
    "accuracy = accuracy_score(test_labels, predictions)\n",
    "print(\"Accuracy:\", accuracy)"
   ]
  }
 ],
 "metadata": {
  "kernelspec": {
   "display_name": "Python 3.10.6 64-bit",
   "language": "python",
   "name": "python3"
  },
  "language_info": {
   "codemirror_mode": {
    "name": "ipython",
    "version": 3
   },
   "file_extension": ".py",
   "mimetype": "text/x-python",
   "name": "python",
   "nbconvert_exporter": "python",
   "pygments_lexer": "ipython3",
   "version": "3.10.6"
  },
  "orig_nbformat": 4,
  "vscode": {
   "interpreter": {
    "hash": "916dbcbb3f70747c44a77c7bcd40155683ae19c65e1c03b4aa3499c5328201f1"
   }
  }
 },
 "nbformat": 4,
 "nbformat_minor": 2
}
